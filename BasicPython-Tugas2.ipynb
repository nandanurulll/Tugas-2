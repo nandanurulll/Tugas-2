{
 "cells": [
  {
   "cell_type": "code",
   "execution_count": 23,
   "id": "957a02cd",
   "metadata": {},
   "outputs": [
    {
     "name": "stdout",
     "output_type": "stream",
     "text": [
      "Selamat datang! \n",
      "--Menu-- \n",
      "1. Daftar Kontak \n",
      "2. Tambah Kontak \n",
      "3. Keluar \n",
      "\n",
      "\n",
      " Pilih menu (1, 2, atau 3): 1\n",
      "\n",
      "\n",
      "-----Daftar Kontak-----\n",
      "Nama  :  Nanda\n",
      "No HP :  087667657671\n",
      "Nama  :  Joe\n",
      "No HP :  087799167787\n",
      "Nama  :  Marsel\n",
      "No HP :  081233417854\n"
     ]
    }
   ],
   "source": [
    "print(\"Selamat datang! \\n--Menu-- \\n1. Daftar Kontak \\n2. Tambah Kontak \\n3. Keluar \\n\")\n",
    "\n",
    "#Buat dictionary untuk menampung kontak awal\n",
    "kontak= {\n",
    "    \"Nanda\":\"087667657671\",\"Joe\":\"087799167787\",\"Marsel\":\"081233417854\"\n",
    "}\n",
    "\n",
    "def Daftar_Kontak():\n",
    "    print(\"\\n\\n-----Daftar Kontak-----\")\n",
    "    for i in kontak:\n",
    "        print(\"Nama  : \", i)\n",
    "        print(\"No HP : \",kontak[i])   \n",
    "     \n",
    "def Tambah_Kontak():\n",
    "    n=int(input(\"Masukan jumlah kontak yang akan ditambakan: \")) \n",
    "    for i in range (n):\n",
    "        Nama=input(\"Nama : \") \n",
    "        No_Telepon=input(\"No Telepon : \")\n",
    "        kontak.update({Nama: No_Telepon})\n",
    "        print(\"Kontak berhasil ditambahkan.\")\n",
    "\n",
    "\n",
    "pilih=int(input(\"\\n Pilih menu (1, 2, atau 3): \"))\n",
    "\n",
    "if pilih == 1:\n",
    "    Daftar_Kontak()\n",
    "elif pilih == 2:\n",
    "    Tambah_Kontak()\n",
    "elif pilih == 3:\n",
    "    print(\"Selesai, Sampai Jumpa!\")\n",
    "else:\n",
    "     print(\"Menu tidak tersedia.\")"
   ]
  },
  {
   "cell_type": "code",
   "execution_count": null,
   "id": "ad90f20a",
   "metadata": {},
   "outputs": [],
   "source": []
  }
 ],
 "metadata": {
  "kernelspec": {
   "display_name": "Python 3 (ipykernel)",
   "language": "python",
   "name": "python3"
  },
  "language_info": {
   "codemirror_mode": {
    "name": "ipython",
    "version": 3
   },
   "file_extension": ".py",
   "mimetype": "text/x-python",
   "name": "python",
   "nbconvert_exporter": "python",
   "pygments_lexer": "ipython3",
   "version": "3.9.7"
  }
 },
 "nbformat": 4,
 "nbformat_minor": 5
}
